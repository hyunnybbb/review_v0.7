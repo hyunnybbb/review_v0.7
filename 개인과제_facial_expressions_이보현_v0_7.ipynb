{
  "nbformat": 4,
  "nbformat_minor": 0,
  "metadata": {
    "colab": {
      "name": "개인과제_facial expressions_이보현_v0.7.ipynb",
      "provenance": [],
      "collapsed_sections": []
    },
    "kernelspec": {
      "name": "python3",
      "display_name": "Python 3"
    },
    "language_info": {
      "name": "python"
    },
    "accelerator": "GPU"
  },
  "cells": [
    {
      "cell_type": "markdown",
      "metadata": {
        "id": "-Isrb3abfMfP"
      },
      "source": [
        "# 1-1. Facial Expression Classification 구현"
      ]
    },
    {
      "cell_type": "code",
      "metadata": {
        "id": "NqDaeJp3FiVQ"
      },
      "source": [
        "import tensorflow as tf\n",
        "import numpy as np\n",
        "from skimage import io\n",
        "import cv2\n",
        "import os\n",
        "import PIL\n",
        "import tensorflow_datasets as tfds\n",
        "\n",
        "from tensorflow.keras import datasets, layers, models\n",
        "from keras.layers import Conv2D, MaxPool2D, Flatten,Dense,Dropout,BatchNormalization\n",
        "\n",
        "import matplotlib.pyplot as plt\n",
        "from google.colab import drive\n",
        "\n",
        "import tensorflow.keras.preprocessing.image as ImageDataGenerator"
      ],
      "execution_count": null,
      "outputs": []
    },
    {
      "cell_type": "code",
      "metadata": {
        "colab": {
          "base_uri": "https://localhost:8080/"
        },
        "id": "H9dhsZxnE-xw",
        "outputId": "e32f236c-6b15-490a-ac7c-6777040754ac"
      },
      "source": [
        "#google drive 연동\n",
        "\n",
        "drive.mount('/content/gdrive/')\n",
        "path = 'gdrive/MyDrive/.kaggle/train'"
      ],
      "execution_count": null,
      "outputs": [
        {
          "output_type": "stream",
          "text": [
            "Mounted at /content/gdrive/\n"
          ],
          "name": "stdout"
        }
      ]
    },
    {
      "cell_type": "code",
      "metadata": {
        "colab": {
          "base_uri": "https://localhost:8080/"
        },
        "id": "kTdYDQznFVgL",
        "outputId": "43a4aeaf-83ca-424a-b595-ec1a31d6dd89"
      },
      "source": [
        "# train_path = 'gdrive/MyDrive/.kaggle/train'\n",
        "\n",
        "train_ds = tf.keras.preprocessing.image_dataset_from_directory(\n",
        "  path,\n",
        "  validation_split=0.2,\n",
        "  subset=\"training\",\n",
        "  seed=123,\n",
        "  image_size=(32, 32),\n",
        "  color_mode=\"grayscale\")"
      ],
      "execution_count": null,
      "outputs": [
        {
          "output_type": "stream",
          "text": [
            "Found 28709 files belonging to 7 classes.\n",
            "Using 22968 files for training.\n"
          ],
          "name": "stdout"
        }
      ]
    },
    {
      "cell_type": "code",
      "metadata": {
        "colab": {
          "base_uri": "https://localhost:8080/"
        },
        "id": "xNKCe9YnF4YV",
        "outputId": "fb9ae2da-fbb3-4f72-d8ac-faca4fc5b6c0"
      },
      "source": [
        "# test_path = 'gdrive/MyDrive/.kaggle/test'\n",
        "\n",
        "val_ds = tf.keras.preprocessing.image_dataset_from_directory(\n",
        "  path,\n",
        "  validation_split=0.2,\n",
        "  subset=\"validation\",\n",
        "  seed=123,\n",
        "  image_size=(32, 32),\n",
        "  color_mode=\"grayscale\")"
      ],
      "execution_count": null,
      "outputs": [
        {
          "output_type": "stream",
          "text": [
            "Found 28709 files belonging to 7 classes.\n",
            "Using 5741 files for validation.\n"
          ],
          "name": "stdout"
        }
      ]
    },
    {
      "cell_type": "code",
      "metadata": {
        "colab": {
          "base_uri": "https://localhost:8080/"
        },
        "id": "q6JOruToGAIl",
        "outputId": "057981dd-57d3-4ff0-eaa8-d53ce5e38659"
      },
      "source": [
        "class_names = train_ds.class_names;\n",
        "class_names"
      ],
      "execution_count": null,
      "outputs": [
        {
          "output_type": "execute_result",
          "data": {
            "text/plain": [
              "['angry', 'disgust', 'fear', 'happy', 'neutral', 'sad', 'surprise']"
            ]
          },
          "metadata": {
            "tags": []
          },
          "execution_count": 5
        }
      ]
    },
    {
      "cell_type": "code",
      "metadata": {
        "colab": {
          "base_uri": "https://localhost:8080/"
        },
        "id": "5oNbtc97GDlK",
        "outputId": "620f52d2-03ca-41c6-cc53-cd7ee89c1995"
      },
      "source": [
        "for image_batch, labels_batch in train_ds:\n",
        "  print(image_batch.shape)\n",
        "  print(labels_batch)\n",
        "  break"
      ],
      "execution_count": null,
      "outputs": [
        {
          "output_type": "stream",
          "text": [
            "(32, 32, 32, 1)\n",
            "tf.Tensor([2 5 5 4 0 5 5 0 3 2 6 5 6 0 3 3 1 0 2 6 5 0 3 4 0 2 6 5 2 4 6 5], shape=(32,), dtype=int32)\n"
          ],
          "name": "stdout"
        }
      ]
    },
    {
      "cell_type": "code",
      "metadata": {
        "colab": {
          "base_uri": "https://localhost:8080/",
          "height": 591
        },
        "id": "V_1FoXAdGjLH",
        "outputId": "3a9f89ab-db8d-4fdb-b9bd-40b9af42d5f7"
      },
      "source": [
        "plt.figure(figsize=(10, 10))\n",
        "for images, labels in train_ds.take(1):\n",
        "  for i in range(9):\n",
        "    ax = plt.subplot(3, 3, i + 1)\n",
        "    plt.imshow(images[i].numpy().astype(\"uint8\")[:,:,0], cmap=plt.get_cmap('gray'), vmin=0, vmax=255)\n",
        "    plt.title(class_names[labels[i]])\n",
        "    plt.axis(\"off\")"
      ],
      "execution_count": null,
      "outputs": [
        {
          "output_type": "display_data",
          "data": {
            "image/png": "[encoded data removed]",
            "text/plain": [
              "<Figure size 720x720 with 9 Axes>"
            ]
          },
          "metadata": {
            "tags": [],
            "needs_background": "light"
          }
        }
      ]
    },
    {
      "cell_type": "code",
      "metadata": {
        "id": "K44TSNaVDTNo"
      },
      "source": [
        "from tensorflow.keras import layers\n",
        "\n",
        "normalization_layer = tf.keras.layers.experimental.preprocessing.Rescaling(1./255)"
      ],
      "execution_count": null,
      "outputs": []
    },
    {
      "cell_type": "code",
      "metadata": {
        "id": "8BCc2dD8MXmQ"
      },
      "source": [
        "#data augmentation 수행\n",
        "\n",
        "def augment(image, label):\n",
        "  image = tf.image.resize_with_crop_or_pad(image, 24, 24)\n",
        "  image = tf.image.random_brightness(image, max_delta=0.5)\n",
        "  image = tf.clip_by_value(image, 0, 1)\n",
        "  # image = tf.image.rgb_to_grayscale(images, name=None)\n",
        "  image = tf.image.random_flip_left_right(image, seed=None)\n",
        "  image = tf.image.random_contrast(image, 0.2, 0.5, seed=None)\n",
        "  return image, label"
      ],
      "execution_count": null,
      "outputs": []
    },
    {
      "cell_type": "code",
      "metadata": {
        "colab": {
          "base_uri": "https://localhost:8080/"
        },
        "id": "gW0LHHpNDWYu",
        "outputId": "f03270fe-512b-45c4-e296-8062ecf93c7d"
      },
      "source": [
        "#data augmentation\n",
        "augment_ds = train_ds.map(augment)\n",
        "\n",
        "#normalization_train\n",
        "normalized_ds = train_ds.map(lambda x, y: (normalization_layer(x), y))\n",
        "image_batch, labels_batch = next(iter(normalized_ds))\n",
        "first_image = image_batch[0]\n",
        "# Notice the pixels values are now in `[0,1]`.\n",
        "print(np.min(first_image), np.max(first_image))\n",
        "\n",
        "#normalization_val\n",
        "normalized_ds = val_ds.map(lambda x, y: (normalization_layer(x), y))\n",
        "image_batch, labels_batch = next(iter(normalized_ds))\n",
        "first_image = image_batch[0]\n",
        "# Notice the pixels values are now in `[0,1]`.\n",
        "print(np.min(first_image), np.max(first_image))"
      ],
      "execution_count": null,
      "outputs": [
        {
          "output_type": "stream",
          "text": [
            "0.08063726 0.9933824\n",
            "0.0 0.98897064\n"
          ],
          "name": "stdout"
        }
      ]
    },
    {
      "cell_type": "code",
      "metadata": {
        "id": "cYZbViJrDZIn"
      },
      "source": [
        "AUTOTUNE = tf.data.experimental.AUTOTUNE\n",
        "\n",
        "train_ds = train_ds.cache().prefetch(buffer_size=AUTOTUNE)\n",
        "val_ds = val_ds.cache().prefetch(buffer_size=AUTOTUNE)"
      ],
      "execution_count": null,
      "outputs": []
    },
    {
      "cell_type": "code",
      "metadata": {
        "colab": {
          "base_uri": "https://localhost:8080/"
        },
        "id": "HxQLRF_lDcvK",
        "outputId": "81823e47-2b1d-43c7-fdbe-d444a68c4382"
      },
      "source": [
        "#AlexNet 사용\n",
        "#36(C1), 96(C2), 144(C3), 96(C4), 128(C5), 1024(FC6), 1024(FC7)\n",
        "#11(F0), 5(F1), 3(F2), 3(F3), 3(F4)\n",
        "#batch 128, SGD, epoch 60-20-40, learning-rate 0.01-0.001-0.0001\n",
        "\n",
        "model = models.Sequential()\n",
        "model.add(layers.InputLayer(input_shape=(32, 32, 1)))\n",
        "model.add(layers.experimental.preprocessing.Rescaling(1./255))\n",
        "\n",
        "model.add(layers.Conv2D(32, (3, 3), padding='same', activation='relu'))\n",
        "model.add(layers.MaxPooling2D((2, 2)))\n",
        "model.add(BatchNormalization())\n",
        "model.add(layers.Conv2D(64, (3, 3), padding='same', activation='relu'))\n",
        "model.add(layers.MaxPooling2D((2, 2)))\n",
        "model.add(BatchNormalization())\n",
        "model.add(layers.Conv2D(64, (3, 3), padding='same', activation='relu'))\n",
        "model.add(layers.MaxPooling2D((2, 2)))\n",
        "model.add(layers.Conv2D(128, (3, 3), padding='same', activation='relu'))\n",
        "model.add(layers.MaxPooling2D((2, 2)))\n",
        "model.add(BatchNormalization())\n",
        "model.add(layers.Conv2D(256, (3, 3), padding='same', activation='relu'))\n",
        "model.add(layers.MaxPooling2D((2, 2)))\n",
        "model.add(BatchNormalization())\n",
        "model.add(layers.Flatten())\n",
        "model.add(layers.Dense(128, activation='relu'))\n",
        "model.add(layers.Dense(64, activation='relu'))\n",
        "# model.add(Dropout(0.5))\n",
        "model.add(layers.Dense(7, activation='softmax'))\n",
        "# model.add(Dropout(0.25))\n",
        "\n",
        "model.summary()"
      ],
      "execution_count": null,
      "outputs": [
        {
          "output_type": "stream",
          "text": [
            "Model: \"sequential_2\"\n",
            "_________________________________________________________________\n",
            "Layer (type)                 Output Shape              Param #   \n",
            "=================================================================\n",
            "rescaling_3 (Rescaling)      (None, 32, 32, 1)         0         \n",
            "_________________________________________________________________\n",
            "conv2d_10 (Conv2D)           (None, 32, 32, 32)        320       \n",
            "_________________________________________________________________\n",
            "max_pooling2d_10 (MaxPooling (None, 16, 16, 32)        0         \n",
            "_________________________________________________________________\n",
            "batch_normalization_8 (Batch (None, 16, 16, 32)        128       \n",
            "_________________________________________________________________\n",
            "conv2d_11 (Conv2D)           (None, 16, 16, 64)        18496     \n",
            "_________________________________________________________________\n",
            "max_pooling2d_11 (MaxPooling (None, 8, 8, 64)          0         \n",
            "_________________________________________________________________\n",
            "batch_normalization_9 (Batch (None, 8, 8, 64)          256       \n",
            "_________________________________________________________________\n",
            "conv2d_12 (Conv2D)           (None, 8, 8, 64)          36928     \n",
            "_________________________________________________________________\n",
            "max_pooling2d_12 (MaxPooling (None, 4, 4, 64)          0         \n",
            "_________________________________________________________________\n",
            "conv2d_13 (Conv2D)           (None, 4, 4, 128)         73856     \n",
            "_________________________________________________________________\n",
            "max_pooling2d_13 (MaxPooling (None, 2, 2, 128)         0         \n",
            "_________________________________________________________________\n",
            "batch_normalization_10 (Batc (None, 2, 2, 128)         512       \n",
            "_________________________________________________________________\n",
            "conv2d_14 (Conv2D)           (None, 2, 2, 256)         295168    \n",
            "_________________________________________________________________\n",
            "max_pooling2d_14 (MaxPooling (None, 1, 1, 256)         0         \n",
            "_________________________________________________________________\n",
            "batch_normalization_11 (Batc (None, 1, 1, 256)         1024      \n",
            "_________________________________________________________________\n",
            "flatten_2 (Flatten)          (None, 256)               0         \n",
            "_________________________________________________________________\n",
            "dense_6 (Dense)              (None, 128)               32896     \n",
            "_________________________________________________________________\n",
            "dense_7 (Dense)              (None, 64)                8256      \n",
            "_________________________________________________________________\n",
            "dense_8 (Dense)              (None, 7)                 455       \n",
            "=================================================================\n",
            "Total params: 468,295\n",
            "Trainable params: 467,335\n",
            "Non-trainable params: 960\n",
            "_________________________________________________________________\n"
          ],
          "name": "stdout"
        }
      ]
    },
    {
      "cell_type": "code",
      "metadata": {
        "colab": {
          "base_uri": "https://localhost:8080/"
        },
        "id": "JDo1pJIWDmgB",
        "outputId": "77ee30c6-d59b-4650-d008-63fac230fb26"
      },
      "source": [
        "from tensorflow.keras.optimizers import Adam\n",
        "\n",
        "model.compile(\n",
        "    optimizer=Adam(lr=0.001),\n",
        "    loss=tf.keras.losses.SparseCategoricalCrossentropy(from_logits=True),\n",
        "    metrics=['accuracy'])\n",
        "\n",
        "history = model.fit(\n",
        "  train_ds,\n",
        "  batch_size=128,\n",
        "  validation_data=val_ds,\n",
        "  epochs=50\n",
        ")"
      ],
      "execution_count": null,
      "outputs": [
        {
          "output_type": "stream",
          "text": [
            "/usr/local/lib/python3.7/dist-packages/keras/optimizer_v2/optimizer_v2.py:356: UserWarning: The `lr` argument is deprecated, use `learning_rate` instead.\n",
            "  \"The `lr` argument is deprecated, use `learning_rate` instead.\")\n",
            "/usr/local/lib/python3.7/dist-packages/keras/backend.py:4907: UserWarning: \"`sparse_categorical_crossentropy` received `from_logits=True`, but the `output` argument was produced by a sigmoid or softmax activation and thus does not represent logits. Was this intended?\"\n",
            "  '\"`sparse_categorical_crossentropy` received `from_logits=True`, but '\n"
          ],
          "name": "stderr"
        },
        {
          "output_type": "stream",
          "text": [
            "Epoch 1/50\n",
            "718/718 [==============================] - 5s 5ms/step - loss: 1.6371 - accuracy: 0.3541 - val_loss: 1.5440 - val_accuracy: 0.4085\n",
            "Epoch 2/50\n",
            "718/718 [==============================] - 4s 5ms/step - loss: 1.3898 - accuracy: 0.4660 - val_loss: 1.4224 - val_accuracy: 0.4550\n",
            "Epoch 3/50\n",
            "718/718 [==============================] - 4s 5ms/step - loss: 1.2513 - accuracy: 0.5229 - val_loss: 1.3952 - val_accuracy: 0.4572\n",
            "Epoch 4/50\n",
            "718/718 [==============================] - 4s 5ms/step - loss: 1.1436 - accuracy: 0.5679 - val_loss: 1.4616 - val_accuracy: 0.4391\n",
            "Epoch 5/50\n",
            "718/718 [==============================] - 4s 5ms/step - loss: 1.0420 - accuracy: 0.6048 - val_loss: 1.3657 - val_accuracy: 0.4910\n",
            "Epoch 6/50\n",
            "718/718 [==============================] - 3s 5ms/step - loss: 0.9315 - accuracy: 0.6488 - val_loss: 1.5582 - val_accuracy: 0.4100\n",
            "Epoch 7/50\n",
            "718/718 [==============================] - 3s 5ms/step - loss: 0.8220 - accuracy: 0.6914 - val_loss: 1.8236 - val_accuracy: 0.4022\n",
            "Epoch 8/50\n",
            "718/718 [==============================] - 3s 5ms/step - loss: 0.7099 - accuracy: 0.7338 - val_loss: 1.7039 - val_accuracy: 0.4416\n",
            "Epoch 9/50\n",
            "718/718 [==============================] - 3s 5ms/step - loss: 0.6089 - accuracy: 0.7731 - val_loss: 1.8139 - val_accuracy: 0.4607\n",
            "Epoch 10/50\n",
            "718/718 [==============================] - 3s 5ms/step - loss: 0.5266 - accuracy: 0.8014 - val_loss: 1.9021 - val_accuracy: 0.4929\n",
            "Epoch 11/50\n",
            "718/718 [==============================] - 3s 5ms/step - loss: 0.4422 - accuracy: 0.8351 - val_loss: 2.0062 - val_accuracy: 0.5017\n",
            "Epoch 12/50\n",
            "718/718 [==============================] - 3s 5ms/step - loss: 0.3803 - accuracy: 0.8580 - val_loss: 2.2750 - val_accuracy: 0.5024\n",
            "Epoch 13/50\n",
            "718/718 [==============================] - 3s 5ms/step - loss: 0.3302 - accuracy: 0.8769 - val_loss: 2.7713 - val_accuracy: 0.5024\n",
            "Epoch 14/50\n",
            "718/718 [==============================] - 3s 5ms/step - loss: 0.2936 - accuracy: 0.8908 - val_loss: 2.3203 - val_accuracy: 0.5259\n",
            "Epoch 15/50\n",
            "718/718 [==============================] - 4s 5ms/step - loss: 0.2520 - accuracy: 0.9095 - val_loss: 3.3134 - val_accuracy: 0.4879\n",
            "Epoch 16/50\n",
            "718/718 [==============================] - 4s 5ms/step - loss: 0.2414 - accuracy: 0.9131 - val_loss: 2.9551 - val_accuracy: 0.4844\n",
            "Epoch 17/50\n",
            "718/718 [==============================] - 4s 5ms/step - loss: 0.2110 - accuracy: 0.9242 - val_loss: 2.7932 - val_accuracy: 0.5086\n",
            "Epoch 18/50\n",
            "718/718 [==============================] - 4s 5ms/step - loss: 0.1898 - accuracy: 0.9336 - val_loss: 2.7937 - val_accuracy: 0.5102\n",
            "Epoch 19/50\n",
            "718/718 [==============================] - 4s 5ms/step - loss: 0.1637 - accuracy: 0.9431 - val_loss: 2.9544 - val_accuracy: 0.5093\n",
            "Epoch 20/50\n",
            "718/718 [==============================] - 4s 5ms/step - loss: 0.1787 - accuracy: 0.9380 - val_loss: 2.9580 - val_accuracy: 0.5229\n",
            "Epoch 21/50\n",
            "718/718 [==============================] - 4s 5ms/step - loss: 0.1530 - accuracy: 0.9466 - val_loss: 2.9599 - val_accuracy: 0.5170\n",
            "Epoch 22/50\n",
            "718/718 [==============================] - 3s 5ms/step - loss: 0.1519 - accuracy: 0.9468 - val_loss: 3.1632 - val_accuracy: 0.5104\n",
            "Epoch 23/50\n",
            "718/718 [==============================] - 3s 5ms/step - loss: 0.1359 - accuracy: 0.9528 - val_loss: 3.1404 - val_accuracy: 0.5123\n",
            "Epoch 24/50\n",
            "718/718 [==============================] - 3s 5ms/step - loss: 0.1458 - accuracy: 0.9496 - val_loss: 3.2580 - val_accuracy: 0.5010\n",
            "Epoch 25/50\n",
            "718/718 [==============================] - 3s 5ms/step - loss: 0.1257 - accuracy: 0.9567 - val_loss: 3.2540 - val_accuracy: 0.5145\n",
            "Epoch 26/50\n",
            "718/718 [==============================] - 3s 5ms/step - loss: 0.1222 - accuracy: 0.9576 - val_loss: 3.3038 - val_accuracy: 0.5267\n",
            "Epoch 27/50\n",
            "718/718 [==============================] - 3s 5ms/step - loss: 0.1168 - accuracy: 0.9595 - val_loss: 3.6509 - val_accuracy: 0.4747\n",
            "Epoch 28/50\n",
            "718/718 [==============================] - 3s 5ms/step - loss: 0.1085 - accuracy: 0.9633 - val_loss: 3.5170 - val_accuracy: 0.5034\n",
            "Epoch 29/50\n",
            "718/718 [==============================] - 3s 5ms/step - loss: 0.1052 - accuracy: 0.9626 - val_loss: 3.5140 - val_accuracy: 0.5175\n",
            "Epoch 30/50\n",
            "718/718 [==============================] - 4s 5ms/step - loss: 0.1134 - accuracy: 0.9604 - val_loss: 3.7020 - val_accuracy: 0.5105\n",
            "Epoch 31/50\n",
            "718/718 [==============================] - 4s 5ms/step - loss: 0.1105 - accuracy: 0.9625 - val_loss: 3.4412 - val_accuracy: 0.5067\n",
            "Epoch 32/50\n",
            "718/718 [==============================] - 4s 5ms/step - loss: 0.0932 - accuracy: 0.9685 - val_loss: 3.1485 - val_accuracy: 0.5208\n",
            "Epoch 33/50\n",
            "718/718 [==============================] - 4s 5ms/step - loss: 0.0965 - accuracy: 0.9678 - val_loss: 3.3885 - val_accuracy: 0.5299\n",
            "Epoch 34/50\n",
            "718/718 [==============================] - 4s 5ms/step - loss: 0.1014 - accuracy: 0.9650 - val_loss: 3.4529 - val_accuracy: 0.5271\n",
            "Epoch 35/50\n",
            "718/718 [==============================] - 4s 5ms/step - loss: 0.0863 - accuracy: 0.9723 - val_loss: 3.3070 - val_accuracy: 0.5212\n",
            "Epoch 36/50\n",
            "718/718 [==============================] - 3s 5ms/step - loss: 0.0869 - accuracy: 0.9697 - val_loss: 3.5382 - val_accuracy: 0.5313\n",
            "Epoch 37/50\n",
            "718/718 [==============================] - 3s 5ms/step - loss: 0.0784 - accuracy: 0.9745 - val_loss: 3.3973 - val_accuracy: 0.5189\n",
            "Epoch 38/50\n",
            "718/718 [==============================] - 3s 5ms/step - loss: 0.0967 - accuracy: 0.9682 - val_loss: 3.2841 - val_accuracy: 0.5283\n",
            "Epoch 39/50\n",
            "718/718 [==============================] - 3s 5ms/step - loss: 0.0703 - accuracy: 0.9761 - val_loss: 3.4228 - val_accuracy: 0.5274\n",
            "Epoch 40/50\n",
            "718/718 [==============================] - 3s 5ms/step - loss: 0.0779 - accuracy: 0.9724 - val_loss: 3.3550 - val_accuracy: 0.5288\n",
            "Epoch 41/50\n",
            "718/718 [==============================] - 3s 5ms/step - loss: 0.0791 - accuracy: 0.9725 - val_loss: 3.4148 - val_accuracy: 0.5166\n",
            "Epoch 42/50\n",
            "718/718 [==============================] - 3s 5ms/step - loss: 0.0789 - accuracy: 0.9731 - val_loss: 3.3248 - val_accuracy: 0.5260\n",
            "Epoch 43/50\n",
            "718/718 [==============================] - 3s 5ms/step - loss: 0.0672 - accuracy: 0.9772 - val_loss: 3.3536 - val_accuracy: 0.5058\n",
            "Epoch 44/50\n",
            "718/718 [==============================] - 3s 5ms/step - loss: 0.0688 - accuracy: 0.9758 - val_loss: 3.4048 - val_accuracy: 0.5158\n",
            "Epoch 45/50\n",
            "718/718 [==============================] - 3s 5ms/step - loss: 0.0747 - accuracy: 0.9735 - val_loss: 3.3817 - val_accuracy: 0.5266\n",
            "Epoch 46/50\n",
            "718/718 [==============================] - 4s 5ms/step - loss: 0.0641 - accuracy: 0.9781 - val_loss: 3.5044 - val_accuracy: 0.5206\n",
            "Epoch 47/50\n",
            "718/718 [==============================] - 4s 5ms/step - loss: 0.0576 - accuracy: 0.9798 - val_loss: 3.4985 - val_accuracy: 0.5196\n",
            "Epoch 48/50\n",
            "718/718 [==============================] - 4s 5ms/step - loss: 0.0769 - accuracy: 0.9746 - val_loss: 3.3537 - val_accuracy: 0.5027\n",
            "Epoch 49/50\n",
            "718/718 [==============================] - 4s 5ms/step - loss: 0.0628 - accuracy: 0.9785 - val_loss: 3.4374 - val_accuracy: 0.5253\n",
            "Epoch 50/50\n",
            "718/718 [==============================] - 4s 5ms/step - loss: 0.0564 - accuracy: 0.9813 - val_loss: 3.4955 - val_accuracy: 0.5064\n"
          ],
          "name": "stdout"
        }
      ]
    },
    {
      "cell_type": "code",
      "metadata": {
        "colab": {
          "base_uri": "https://localhost:8080/",
          "height": 301
        },
        "id": "XuoHQyUpDt_T",
        "outputId": "169f38f0-f8e0-4600-d624-7d5bd29c934b"
      },
      "source": [
        "plt.plot(history.history['accuracy'], label='accuracy')\n",
        "plt.plot(history.history['val_accuracy'], label = 'val_accuracy')\n",
        "plt.xlabel('Epoch')\n",
        "plt.ylabel('Accuracy')\n",
        "plt.ylim([0, 1])\n",
        "plt.legend(loc='lower right')"
      ],
      "execution_count": null,
      "outputs": [
        {
          "output_type": "execute_result",
          "data": {
            "text/plain": [
              "<matplotlib.legend.Legend at 0x7fb2c81d2190>"
            ]
          },
          "metadata": {
            "tags": []
          },
          "execution_count": 29
        },
        {
          "output_type": "display_data",
          "data": {
            "image/png": "[encoded data removed]",
            "text/plain": [
              "<Figure size 432x288 with 1 Axes>"
            ]
          },
          "metadata": {
            "tags": [],
            "needs_background": "light"
          }
        }
      ]
    },
    {
      "cell_type": "code",
      "metadata": {
        "colab": {
          "base_uri": "https://localhost:8080/",
          "height": 591
        },
        "id": "31ashHp6D7qk",
        "outputId": "ba934802-1151-4221-c336-a5f93e62e5ec"
      },
      "source": [
        "plt.figure(figsize=(10, 10))\n",
        "for images, labels in val_ds.take(1):\n",
        "  for i in range(9):\n",
        "    ax = plt.subplot(3, 3, i + 1)\n",
        "    plt.imshow(images[i].numpy().astype(\"uint8\")[:,:,0], cmap=plt.get_cmap('gray'), vmin=0, vmax=255)\n",
        "    a = (model.predict(images))\n",
        "    plt.title(class_names[labels[i]] + '/' + class_names[tf.argmax(a[i])])\n",
        "    plt.axis(\"off\")"
      ],
      "execution_count": null,
      "outputs": [
        {
          "output_type": "display_data",
          "data": {
            "image/png": "[encoded data removed]",
            "text/plain": [
              "<Figure size 720x720 with 9 Axes>"
            ]
          },
          "metadata": {
            "tags": [],
            "needs_background": "light"
          }
        }
      ]
    },
    {
      "cell_type": "markdown",
      "metadata": {
        "id": "rJePA36Wi-fG"
      },
      "source": [
        "# 1-2. Confidence Prediction"
      ]
    },
    {
      "cell_type": "code",
      "metadata": {
        "colab": {
          "base_uri": "https://localhost:8080/",
          "height": 226
        },
        "id": "SCcRJHfhjH7G",
        "outputId": "75801241-a798-48df-83de-f8a2ffe7224b"
      },
      "source": [
        "test_loss, test_acc = model.evaluate(test_images,  test_labels, verbose=2)\n",
        "print('\\n테스트 정확도:', test_acc)\n",
        "\n",
        "predictions = model.predict(test_images)\n"
      ],
      "execution_count": null,
      "outputs": [
        {
          "output_type": "error",
          "ename": "NameError",
          "evalue": "ignored",
          "traceback": [
            "\u001b[0;31m---------------------------------------------------------------------------\u001b[0m",
            "\u001b[0;31mNameError\u001b[0m                                 Traceback (most recent call last)",
            "\u001b[0;32m<ipython-input-31-5555e2fd15b6>\u001b[0m in \u001b[0;36m<module>\u001b[0;34m()\u001b[0m\n\u001b[0;32m----> 1\u001b[0;31m \u001b[0mtest_loss\u001b[0m\u001b[0;34m,\u001b[0m \u001b[0mtest_acc\u001b[0m \u001b[0;34m=\u001b[0m \u001b[0mmodel\u001b[0m\u001b[0;34m.\u001b[0m\u001b[0mevaluate\u001b[0m\u001b[0;34m(\u001b[0m\u001b[0mtest_images\u001b[0m\u001b[0;34m,\u001b[0m  \u001b[0mtest_labels\u001b[0m\u001b[0;34m,\u001b[0m \u001b[0mverbose\u001b[0m\u001b[0;34m=\u001b[0m\u001b[0;36m2\u001b[0m\u001b[0;34m)\u001b[0m\u001b[0;34m\u001b[0m\u001b[0;34m\u001b[0m\u001b[0m\n\u001b[0m\u001b[1;32m      2\u001b[0m \u001b[0mprint\u001b[0m\u001b[0;34m(\u001b[0m\u001b[0;34m'\\n테스트 정확도:'\u001b[0m\u001b[0;34m,\u001b[0m \u001b[0mtest_acc\u001b[0m\u001b[0;34m)\u001b[0m\u001b[0;34m\u001b[0m\u001b[0;34m\u001b[0m\u001b[0m\n\u001b[1;32m      3\u001b[0m \u001b[0;34m\u001b[0m\u001b[0m\n\u001b[1;32m      4\u001b[0m \u001b[0mpredictions\u001b[0m \u001b[0;34m=\u001b[0m \u001b[0mmodel\u001b[0m\u001b[0;34m.\u001b[0m\u001b[0mpredict\u001b[0m\u001b[0;34m(\u001b[0m\u001b[0mtest_images\u001b[0m\u001b[0;34m)\u001b[0m\u001b[0;34m\u001b[0m\u001b[0;34m\u001b[0m\u001b[0m\n",
            "\u001b[0;31mNameError\u001b[0m: name 'test_images' is not defined"
          ]
        }
      ]
    },
    {
      "cell_type": "code",
      "metadata": {
        "id": "7TMMYbt8k6Er"
      },
      "source": [
        "# def plot_image(i, predictions_array, true_label, img):\n",
        "#   predictions_array, true_label, img = predictions_array[i], true_label[i], img[i]\n",
        "#   plt.grid(False)\n",
        "#   plt.xticks([])\n",
        "#   plt.yticks([])\n",
        "\n",
        "#   plt.imshow(img, cmap=plt.cm.binary)\n",
        "\n",
        "#   predicted_label = np.argmax(predictions_array)\n",
        "#   if predicted_label == true_label:\n",
        "#     color = 'blue'\n",
        "#   else:\n",
        "#     color = 'red'\n",
        "\n",
        "#   plt.xlabel(\"{} {:2.0f}% ({})\".format(class_names[predicted_label],\n",
        "#                                 100*np.max(predictions_array),\n",
        "#                                 class_names[true_label]),\n",
        "#                                 color=color)\n",
        "\n",
        "# def plot_value_array(i, predictions_array, true_label):\n",
        "#   predictions_array, true_label = predictions_array[i], true_label[i]\n",
        "#   plt.grid(False)\n",
        "#   plt.xticks([])\n",
        "#   plt.yticks([])\n",
        "#   thisplot = plt.bar(range(10), predictions_array, color=\"#777777\")\n",
        "#   plt.ylim([0, 1])\n",
        "#   predicted_label = np.argmax(predictions_array)\n",
        "\n",
        "#   thisplot[predicted_label].set_color('red')\n",
        "#   thisplot[true_label].set_color('blue')"
      ],
      "execution_count": null,
      "outputs": []
    },
    {
      "cell_type": "code",
      "metadata": {
        "id": "uNNMqzpslBrF"
      },
      "source": [
        "# # 처음 X 개의 테스트 이미지와 예측 레이블, 진짜 레이블을 출력합니다\n",
        "# # 올바른 예측은 파랑색으로 잘못된 예측은 빨강색으로 나타냅니다\n",
        "# num_rows = 5\n",
        "# num_cols = 3\n",
        "# num_images = num_rows*num_cols\n",
        "# plt.figure(figsize=(2*2*num_cols, 2*num_rows))\n",
        "# for i in range(num_images):\n",
        "#   plt.subplot(num_rows, 2*num_cols, 2*i+1)\n",
        "#   plot_image(i, predictions, test_labels, test_images)\n",
        "#   plt.subplot(num_rows, 2*num_cols, 2*i+2)\n",
        "#   plot_value_array(i, predictions, test_labels)\n",
        "# plt.show()"
      ],
      "execution_count": null,
      "outputs": []
    },
    {
      "cell_type": "markdown",
      "metadata": {
        "id": "8doA99TDe6nk"
      },
      "source": [
        "# 2. Facial Detection Pipeline 구현(by MediaPipeline)"
      ]
    },
    {
      "cell_type": "code",
      "metadata": {
        "id": "dxRm2R0PT59j"
      },
      "source": [
        "#facial detection pipeline 추가\n",
        "\n",
        "!pip install mediapipe\n",
        "\n",
        "import mediapipe as mp\n",
        "mp_face_detection = mp.solutions.face_detection"
      ],
      "execution_count": null,
      "outputs": []
    },
    {
      "cell_type": "code",
      "metadata": {
        "id": "DymHLBy-kVVg"
      },
      "source": [
        "from google.colab import files\n",
        "uploaded = files.upload()"
      ],
      "execution_count": null,
      "outputs": []
    },
    {
      "cell_type": "code",
      "metadata": {
        "id": "zzgOqSZbkOj0"
      },
      "source": [
        "import cv2\n",
        "from google.colab.patches import cv2_imshow\n",
        "\n",
        "# Read images with OpenCV.\n",
        "images = {name: cv2.imread(name) for name in uploaded.keys()}\n",
        "# Preview the images.\n",
        "for name, image in images.items():\n",
        "  print(name)   \n",
        "  cv2_imshow(image)"
      ],
      "execution_count": null,
      "outputs": []
    },
    {
      "cell_type": "code",
      "metadata": {
        "id": "V_l27uv7UEwc"
      },
      "source": [
        "# Prepare DrawingSpec for drawing the face landmarks later.\n",
        "mp_drawing = mp.solutions.drawing_utils \n",
        "drawing_spec = mp_drawing.DrawingSpec(thickness=1, circle_radius=1)"
      ],
      "execution_count": null,
      "outputs": []
    },
    {
      "cell_type": "code",
      "metadata": {
        "id": "Vh3GBdUkUEDH"
      },
      "source": [
        "# Run MediaPipe Face Detection.\n",
        "with mp_face_detection.FaceDetection(\n",
        "    min_detection_confidence=0.5) as face_detection:\n",
        "  for name, image in images.items():\n",
        "    # Convert the BGR image to RGB and process it with MediaPipe Face Detection.\n",
        "    results = face_detection.process(cv2.cvtColor(image, cv2.COLOR_BGR2RGB))\n",
        "\n",
        "    # Draw face detections of each face.\n",
        "    print(f'Face detections of {name}:')\n",
        "    if not results.detections:\n",
        "      continue\n",
        "    annotated_image = image.copy()\n",
        "    for detection in results.detections:\n",
        "      mp_drawing.draw_detection(annotated_image, detection)\n",
        "      cv2_imshow(annotated_image)"
      ],
      "execution_count": null,
      "outputs": []
    }
  ]
}